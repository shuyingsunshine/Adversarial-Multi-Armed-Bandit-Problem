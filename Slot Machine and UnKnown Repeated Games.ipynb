{
 "cells": [
  {
   "cell_type": "code",
   "execution_count": 1,
   "metadata": {
    "collapsed": true
   },
   "outputs": [],
   "source": [
    "import copy\n",
    "import numpy as np\n",
    "import pandas as pd\n",
    "import matplotlib.pyplot as plt\n",
    "%matplotlib inline"
   ]
  },
  {
   "cell_type": "markdown",
   "metadata": {},
   "source": [
    "Here we consider the multi-armed machines are beta-distribution, with each time the sum of the mean is totalMean.\n",
    "\n",
    "The beta scheme is the scheme for the person who owns the machine (or opponent), let $n_{i,t}$ be the number of times machine $i$ has been chosen up to time $t-1$. Machine $i$ returns a gain $g_{i,t} = X_{i,t}+Y_{i,t}$, where $X_{i,t}$ has distribution Bernoulli($\\frac{i}{2K}$) and ,independently, $Y_{i,t}$ has distribution Beta$(\\alpha_{i,t},\\beta_{i,t})$  with\n",
    "$\\alpha_{i,t} =\\exp{\\left(-\\frac{K}{t-1}n_{i,t}\\right)}$, and $\\beta_{i,t} = \\sum_{j\\ne i}\\alpha_{j,t}$\n",
    "Since Beta$(a,b)$ has mean $\\frac{a}{a+b}$, we have, at each time $t$, the mean of the sum of gains by all machines is\n",
    "$\\sum_{i=1}^{K} \\mathbb{E}(g_{i,t})=\\sum_{i=1}^{K} \\mathbb{E}(X_{i,t}) + \\mathbb{E}(Y_{i,t})$\n",
    "Here, we specifically make $\\sum_{i=1}^{K} \\mathbb{E}(g_{i,t})$ a constant at each time $t$ to ensure that on average, there exists some machine which generate relatively good reward. And $\\alpha_{i,t}$ decreases exponentially as $n_{i,t}$ increases, and hence the mean of $Y_{i,t}$ will be small if $n_{i,t}$ is large."
   ]
  },
  {
   "cell_type": "code",
   "execution_count": 3,
   "metadata": {
    "collapsed": true
   },
   "outputs": [],
   "source": [
    "def betaParameters(numPlayed,lamda,totalMean): \n",
    "    ##return the beta distribution parameters for each machine according to the times it has been played so far\n",
    "    alphas = []\n",
    "    betas = []\n",
    "    K = len(numPlayed)\n",
    "    s = 0\n",
    "    for i in range(K):\n",
    "        a = np.exp(-numPlayed[i]*lamda)\n",
    "        s = s+a\n",
    "        alphas.append(a)\n",
    "    for i in range(K):\n",
    "        b = (s - totalMean*alphas[i])*1.0/totalMean\n",
    "        betas.append(b)\n",
    "    return alphas,betas"
   ]
  },
  {
   "cell_type": "code",
   "execution_count": 5,
   "metadata": {
    "collapsed": true
   },
   "outputs": [],
   "source": [
    "## it returns the mean of each machine\n",
    "def meansEachMachine(scheme):\n",
    "    res = []\n",
    "    for i in range(scheme.K):\n",
    "        res.append(scheme.alphas[i]/(scheme.alphas[i]+scheme.betas[i])+scheme.bers[i])    \n",
    "    return res "
   ]
  },
  {
   "cell_type": "code",
   "execution_count": 7,
   "metadata": {
    "collapsed": false
   },
   "outputs": [],
   "source": [
    "class betaScheme:\n",
    "    def __init__(self,K,totalMean = 1):\n",
    "        self.K = K\n",
    "        self.T = 0\n",
    "        self.totalMean = totalMean\n",
    "        self.numPlayed = []\n",
    "        for i in range(self.K):\n",
    "            self.numPlayed.append(0)\n",
    "        self.alphas,self.betas = betaParameters(self.numPlayed,0,self.totalMean)\n",
    "        self.bers = []\n",
    "        for i in range(self.K):\n",
    "            self.bers.append((i+1)*1.0/2/K)\n",
    "    def action(self,j):\n",
    "        self.numPlayed[j] = self.numPlayed[j]+1\n",
    "        self.T = self.T+1\n",
    "        self.alphas,self.betas = betaParameters(self.numPlayed,self.K*1.0/self.T,self.totalMean)\n",
    "    def getSample(self):\n",
    "        res = []\n",
    "        for i in range(self.K):\n",
    "            temp = np.random.beta(self.alphas[i],self.betas[i])\n",
    "            if np.random.rand() < self.bers[i]:\n",
    "                temp += 1\n",
    "            res.append(temp)\n",
    "        return res\n",
    "    def jthSample(self,j):\n",
    "        temp = np.random.beta(self.alphas[j],self.betas[j])\n",
    "        if np.random.rand() < self.bers[j]:\n",
    "            temp += 1\n",
    "        return temp\n",
    "    def means(self):\n",
    "        return meansEachMachine(self)"
   ]
  },
  {
   "cell_type": "code",
   "execution_count": 8,
   "metadata": {
    "collapsed": false
   },
   "outputs": [],
   "source": [
    "class MultiArmOpponent: ### the opponent modifies the probability of win if the number of times playing for some\n",
    "    ### machine increases\n",
    "    def __init__(self,scheme):\n",
    "        self.scheme = scheme\n",
    "        self.K = scheme.K\n",
    "        self.T = 0\n",
    "    def getSample(self):\n",
    "        return self.scheme.getSample()\n",
    "    def jthSample(self,j):\n",
    "        return self.scheme.jthSample(j)\n",
    "    def action(self, j):\n",
    "        self.scheme.action(j)\n",
    "        self.T = self.T+1"
   ]
  },
  {
   "cell_type": "code",
   "execution_count": 9,
   "metadata": {
    "collapsed": true
   },
   "outputs": [],
   "source": [
    "### for the player, compute the probability for choosing each machine\n",
    "def categoryProbability(ita,gains):\n",
    "    K = len(gains)\n",
    "    res = []\n",
    "    s = 0\n",
    "    for i in range(K):\n",
    "        p = np.exp(ita*gains[i])\n",
    "        s = s+p\n",
    "        res.append(p)\n",
    "    for i in range(K):\n",
    "        res[i] = res[i]*1.0/s\n",
    "    return res"
   ]
  },
  {
   "cell_type": "markdown",
   "metadata": {},
   "source": [
    "# FULL INFORMATION GAME"
   ]
  },
  {
   "cell_type": "code",
   "execution_count": 10,
   "metadata": {
    "collapsed": true
   },
   "outputs": [],
   "source": [
    "class FullInformationGame:   ### the strategy you take to beat opponent if you know full information\n",
    "    def __init__(self,ita,MAOmodel):\n",
    "        self.myMAOmodel = MAOmodel\n",
    "        self.K = MAOmodel.K\n",
    "        self.ita = ita\n",
    "        self.T =0\n",
    "        self.gains = []\n",
    "        self.maxiGain = 0\n",
    "        for i in range(self.K):\n",
    "            self.gains.append(0)\n",
    "        self.categProb = categoryProbability(self.ita,self.gains)\n",
    "        self.acturalGain = 0\n",
    "    def play(self):\n",
    "        j = np.random.choice(self.K,1,p=self.categProb)[0]\n",
    "        curgains = self.myMAOmodel.getSample()\n",
    "        self.acturalGain = self.acturalGain + curgains[j]\n",
    "        self.T = self.T+1\n",
    "        self.myMAOmodel.action(j)\n",
    "        self.maxiGain = 0\n",
    "        for i in range(self.K):\n",
    "            self.gains[i] = self.gains[i]+curgains[i]\n",
    "            if self.maxiGain < self.gains[i]:\n",
    "                self.maxiGain = self.gains[i]\n",
    "        self.categProb = categoryProbability(self.ita,self.gains)"
   ]
  },
  {
   "cell_type": "code",
   "execution_count": 11,
   "metadata": {
    "collapsed": false
   },
   "outputs": [],
   "source": [
    "def betaFIGmean(K,T,R):  ## find the mean of regret (difference of maxiGain and acturalGain) for different number \n",
    "    ## of trials, each T, runs for R times, which enable us to find the average\n",
    "    print \"we are doing for T = \"+str(T)\n",
    "    ita = np.log(1+np.sqrt(2*np.log(K)/T))\n",
    "    res = 0\n",
    "    for i in range(R):\n",
    "        scheme = betaScheme(K)\n",
    "        myMAO = MultiArmOpponent(scheme)\n",
    "        myFIG = FullInformationGame(ita,myMAO)\n",
    "        for i in range(T):\n",
    "            myFIG.play()\n",
    "        res = res+(myFIG.maxiGain-myFIG.acturalGain)\n",
    "    res = res/R\n",
    "    return res"
   ]
  },
  {
   "cell_type": "markdown",
   "metadata": {},
   "source": [
    "# PARTIAL INFORMATION GAME"
   ]
  },
  {
   "cell_type": "code",
   "execution_count": 12,
   "metadata": {
    "collapsed": true
   },
   "outputs": [],
   "source": [
    "def hatCategoryProbability(ita,gamma,gains):\n",
    "    res = categoryProbability(ita,gains)\n",
    "    for i in range(len(res)):\n",
    "        res[i] = (1-gamma)*res[i]+gamma*1.0/len(gains)\n",
    "    return res"
   ]
  },
  {
   "cell_type": "code",
   "execution_count": 13,
   "metadata": {
    "collapsed": true
   },
   "outputs": [],
   "source": [
    "class PartialInformationGame:   ### the strategy you take to beat opponent if you know partial information\n",
    "    def __init__(self,ita,gamma,ki,MAOmodel):\n",
    "        self.myMAOmodel = MAOmodel\n",
    "        self.K = MAOmodel.K\n",
    "        self.gamma = gamma\n",
    "        self.ita = ita\n",
    "        self.ki = ki\n",
    "        self.T =0\n",
    "        self.gains = []\n",
    "        self.eachSum = [0]*self.K\n",
    "        self.maxiSum = 0\n",
    "        for i in range(self.K):\n",
    "            self.gains.append(0)\n",
    "        self.categProb = hatCategoryProbability(self.ita,self.gamma,self.gains)\n",
    "        self.acturalGain = 0\n",
    "    def play(self):\n",
    "        j = np.random.choice(self.K,1,p=self.categProb)[0]\n",
    "        #print \"j is \" + str(j)\n",
    "        temp = self.myMAOmodel.scheme.getSample()\n",
    "        curgain = temp[j]\n",
    "        self.acturalGain = self.acturalGain + curgain\n",
    "        #print \"actural gain is \"+str(curgain)\n",
    "        self.T = self.T+1\n",
    "        self.myMAOmodel.action(j)\n",
    "        for i in range(self.K):\n",
    "            if i == j:\n",
    "                self.gains[i] = self.gains[i] + (curgain+self.ki)*1.0/self.categProb[i]\n",
    "            else:\n",
    "                self.gains[i] = self.gains[i] + (self.ki)*1.0/self.categProb[i]\n",
    "        self.categProb = hatCategoryProbability(self.ita,self.gamma,self.gains)\n",
    "        for i in range(self.K):\n",
    "            self.eachSum[i] += temp[i]\n",
    "            if self.eachSum[i] > self.maxiSum:\n",
    "                self.maxiSum = self.eachSum[i]\n",
    "        return j,curgain"
   ]
  },
  {
   "cell_type": "code",
   "execution_count": 15,
   "metadata": {
    "collapsed": true
   },
   "outputs": [],
   "source": [
    "## for different T, compute the mean of regret by doing R times for Exp3.P strategy\n",
    "def betaPIGmean(K,T,R):\n",
    "    #print \"we are doing for T = \"+str(T)\n",
    "    gamma = np.sqrt(K*np.log(K)/(np.exp(1)-1)/T)\n",
    "    if gamma > 1:\n",
    "        gamma =1\n",
    "    ita = gamma/K\n",
    "    ki = 0\n",
    "    res = 0\n",
    "    for i in range(R):\n",
    "        scheme = betaScheme(K)\n",
    "        myMAO = MultiArmOpponent(scheme)\n",
    "        myPIG = PartialInformationGame(ita,gamma,ki,myMAO)\n",
    "        for i in range(T):\n",
    "            myPIG.play()\n",
    "        res = res+(myPIG.maxiSum-myPIG.acturalGain)\n",
    "    res = res/R\n",
    "    return res"
   ]
  },
  {
   "cell_type": "code",
   "execution_count": 322,
   "metadata": {
    "collapsed": false
   },
   "outputs": [
    {
     "name": "stdout",
     "output_type": "stream",
     "text": [
      "1\n",
      "101\n",
      "201\n",
      "301\n",
      "401\n",
      "501\n",
      "601\n",
      "701\n",
      "801\n",
      "901\n",
      "1001\n"
     ]
    }
   ],
   "source": [
    "### for T = 1,6,11,...1001, compute the mean\n",
    "diff = []\n",
    "for t in np.arange(1,1002,5):\n",
    "    if t % 100 == 1:\n",
    "        print t\n",
    "    diff.append(betaPIGmean(5,t,100))"
   ]
  },
  {
   "cell_type": "markdown",
   "metadata": {},
   "source": [
    "## If we use random strategy to choose the arm"
   ]
  },
  {
   "cell_type": "code",
   "execution_count": 323,
   "metadata": {
    "collapsed": true
   },
   "outputs": [],
   "source": [
    "class RandomGame:   ### the strategy you take to beat opponent if you know partial information\n",
    "                                ### we know the upper bound of EG_max\n",
    "    def __init__(self,MAOmodel):\n",
    "        self.myMAOmodel = MAOmodel\n",
    "        self.K = MAOmodel.K\n",
    "        self.T =0\n",
    "        self.eachSum = [0]*self.K\n",
    "        self.maxiSum = 0\n",
    "        self.categProb = []\n",
    "        for i in range(self.K):\n",
    "            self.categProb.append(1.0/self.K)\n",
    "        self.acturalGain = 0\n",
    "    def play(self):\n",
    "        j = np.random.choice(self.K,1,p=self.categProb)[0]\n",
    "        #print \"j is \" + str(j)\n",
    "        temp = self.myMAOmodel.scheme.getSample()\n",
    "        curgain = temp[j]\n",
    "        self.acturalGain = self.acturalGain + curgain\n",
    "        #print \"actural gain is \"+str(curgain)\n",
    "        self.T = self.T+1\n",
    "        self.myMAOmodel.action(j)\n",
    "        for i in range(self.K):\n",
    "            self.eachSum[i] += temp[i]\n",
    "            if self.eachSum[i] > self.maxiSum:\n",
    "                self.maxiSum = self.eachSum[i]\n",
    "        return j,curgain"
   ]
  },
  {
   "cell_type": "code",
   "execution_count": 324,
   "metadata": {
    "collapsed": true
   },
   "outputs": [],
   "source": [
    "def betaRandommean(K,T,R):\n",
    "    #print \"we are doing for T = \"+str(T)\n",
    "    res = 0\n",
    "    for i in range(R):\n",
    "        scheme = betaScheme(K)\n",
    "        myMAO = MultiArmOpponent(scheme)\n",
    "        myGame = RandomGame(myMAO)\n",
    "        for i in range(T):\n",
    "            myGame.play()\n",
    "        res = res+(myGame.maxiSum-myGame.acturalGain)\n",
    "    res = res/R\n",
    "    return res"
   ]
  },
  {
   "cell_type": "code",
   "execution_count": 325,
   "metadata": {
    "collapsed": false
   },
   "outputs": [
    {
     "name": "stdout",
     "output_type": "stream",
     "text": [
      "1\n",
      "101\n",
      "201\n",
      "301\n",
      "401\n",
      "501\n",
      "601\n",
      "701\n",
      "801\n",
      "901\n",
      "1001\n"
     ]
    }
   ],
   "source": [
    "rdiff = []\n",
    "for t in np.arange(1,1002,5):\n",
    "    if t % 100 == 1:\n",
    "        print t\n",
    "    rdiff.append(betaRandommean(5,t,100))"
   ]
  },
  {
   "cell_type": "code",
   "execution_count": 79,
   "metadata": {
    "collapsed": false
   },
   "outputs": [],
   "source": [
    "## theoretical upper bound of regret\n",
    "A = np.arange(0,1020,0.5)\n",
    "b = []\n",
    "for a in A:\n",
    "    b.append(2.63*np.sqrt(2*a*5*np.log(5)))"
   ]
  },
  {
   "cell_type": "code",
   "execution_count": 80,
   "metadata": {
    "collapsed": false
   },
   "outputs": [
    {
     "data": {
      "image/png": "[encoded data removed]",
      "text/plain": [
       "<matplotlib.figure.Figure at 0x11e205c10>"
      ]
     },
     "metadata": {},
     "output_type": "display_data"
    }
   ],
   "source": [
    "### plot the regret by EX3.P AND RANDOM\n",
    "f = plt.subplot(111)\n",
    "f.plot(np.arange(1,1002,5),diff,'.',color='red',label = 'Exp3.P')\n",
    "f.plot(np.arange(1,1002,5),rdiff,'.',color='blue',label = 'random')\n",
    "f.plot(A,b,'-',color = 'black',label = 'upper bound')\n",
    "f.legend(bbox_to_anchor=(1.05, 1), loc=2, borderaxespad=0.)\n",
    "f.set_xlim([0,1020])\n",
    "plt.xlabel('Rounds n')\n",
    "plt.ylabel('Average Regret')\n",
    "plt.title(\"Average Regrets\")\n",
    "plt.show()"
   ]
  },
  {
   "cell_type": "markdown",
   "metadata": {},
   "source": [
    "## MATRIX REPEATED GAME"
   ]
  },
  {
   "cell_type": "markdown",
   "metadata": {},
   "source": [
    "the game is defined by a $m \\times n$ matrix $M$ such that each entry $M_{i j} \\in [0, 1]$. At each time $t$, the row player chooses a row $i$ and the opponent(column player) chooses a column $j$. The row player then received the payoff $M_{i j}$. The row player's goal is to maximize its expected total payoff over a sequence of plays.\n",
    "\n",
    "\n",
    "Suppose, at time $t$, the row player chooses the row randomly according to a probability distribution $p = (p_1, \\ldots, p_m)^T$, and the column player similarly chooses the column according to a distribution $q=(q_1, \\ldots, q_n)^T$. Then row player's expected payoff is $p^T M q$.\n",
    "\n",
    "\n",
    "The value of the game is $\\max_p\\min_q\\ {p}^T M q$, and can be computed using linear programming."
   ]
  },
  {
   "cell_type": "code",
   "execution_count": 22,
   "metadata": {
    "collapsed": false
   },
   "outputs": [],
   "source": [
    "import scipy.optimize as op"
   ]
  },
  {
   "cell_type": "code",
   "execution_count": 23,
   "metadata": {
    "collapsed": false
   },
   "outputs": [],
   "source": [
    "class RepeatedGame:\n",
    "    def __init__(self,a,b,m,n):  ## m*n matrix each entry between a and b\n",
    "        self.lower = a\n",
    "        self.upper = b\n",
    "        self.M = np.random.rand(m,n)\n",
    "        self.M = a + (b-a)*self.M\n",
    "        self.m = self.M.shape[0]\n",
    "        self.n = self.M.shape[1]\n",
    "        ##solve the linear programming to get Nash equi and optimal strategy\n",
    "        c = []\n",
    "        bound = []\n",
    "        rc = []\n",
    "        rbound = []\n",
    "        rb =[]\n",
    "        for i in range(self.n):\n",
    "            c.append(-1)\n",
    "            bound.append((0,None))\n",
    "            rb.append(-1)\n",
    "        b = []\n",
    "        for i in range(self.m):\n",
    "            b.append(1)\n",
    "            rc.append(1)\n",
    "            rbound.append((0,None))\n",
    "        self.sol = op.linprog(c,A_ub = self.M, b_ub = b, bounds = bound)\n",
    "        self.rsol = op.linprog(rc,A_ub = -1*self.M.transpose(),b_ub = rb, bounds = rbound)\n",
    "        self.equi = -1.0/self.sol['fun']\n",
    "        self.colDist = self.equi*self.sol['x']\n",
    "        self.rowDist = 1.0/self.rsol['fun']*self.rsol['x']\n",
    "    def getReward(self,i,j):\n",
    "        return (self.M[i,j]-self.lower)*1.0/(self.upper-self.lower)\n",
    "        "
   ]
  },
  {
   "cell_type": "markdown",
   "metadata": {},
   "source": [
    "Suppose, the matrix $M$ is entirely unknown to the row player. Moreover, in each play of the game, the row player only knows the value $M_{ij}$, the actual gain of this play. What makes things even worse is that, not only does the column player know the entire matrix $M$, but it also knows, at each time $t$, the row player's strategy $p_t$ before choosing its own strategy. So the column player\n",
    "can choose the column argmin$_{j}\\sum_{i=1}^{K}M_{ij}p^{(t)}_i$ with probability 1. \n",
    "\n",
    "Next, we will design this strategy for the column player (opponent)."
   ]
  },
  {
   "cell_type": "code",
   "execution_count": 25,
   "metadata": {
    "collapsed": true
   },
   "outputs": [],
   "source": [
    "class RiggedRepeatedGame:  ## here the adversary only knows the entire matrix, but also know your strategy.\n",
    "    def __init__(self,ita,gamma, RGmodel):\n",
    "        self.RGmodel = RGmodel\n",
    "        self.m = RGmodel.m\n",
    "        self.n = RGmodel.n\n",
    "        self.gamma = gamma\n",
    "        self.ita = ita\n",
    "        self.T =0\n",
    "        self.gains = []\n",
    "        for i in range(self.m):\n",
    "            self.gains.append(0)\n",
    "        self.categProb = hatCategoryProbability(self.ita,self.gamma,self.gains)\n",
    "        self.acturalGain = 0\n",
    "        self.rowChoices = []\n",
    "        self.colChoices = []\n",
    "    def columnStrategy(self):\n",
    "        return np.argmin(np.dot(self.categProb,self.RGmodel.M))\n",
    "    def play(self):\n",
    "        i = np.random.choice(self.m,1,p=self.categProb)[0]\n",
    "        j = self.columnStrategy()\n",
    "        self.rowChoices.append(i)\n",
    "        self.colChoices.append(j)\n",
    "        curgain = self.RGmodel.getReward(i,j)\n",
    "        #print curgain\n",
    "        self.acturalGain = self.acturalGain + curgain\n",
    "        self.T = self.T+1\n",
    "        self.gains[i] = self.gains[i] + curgain*1.0/self.categProb[i]\n",
    "        self.categProb = hatCategoryProbability(self.ita,self.gamma,self.gains)\n",
    "    def rowGain(self):\n",
    "        return self.acturalGain*(self.RGmodel.upper-self.RGmodel.lower)+self.RGmodel.lower"
   ]
  },
  {
   "cell_type": "markdown",
   "metadata": {},
   "source": [
    "This is an example of this repeated game, when number of rows and number of columns are both 10, each element is between 0 and 100"
   ]
  },
  {
   "cell_type": "code",
   "execution_count": 84,
   "metadata": {
    "collapsed": false
   },
   "outputs": [],
   "source": [
    "RGmodel = pickle.load(open('myRGmodel.obj','rb'))"
   ]
  },
  {
   "cell_type": "code",
   "execution_count": 27,
   "metadata": {
    "collapsed": false
   },
   "outputs": [],
   "source": [
    "gamma = np.sqrt(10*np.log(10)/(np.exp(1)-1)/2000)"
   ]
  },
  {
   "cell_type": "code",
   "execution_count": 28,
   "metadata": {
    "collapsed": false
   },
   "outputs": [],
   "source": [
    "ita = gamma/10"
   ]
  },
  {
   "cell_type": "markdown",
   "metadata": {},
   "source": [
    "### playing the this game for 2000 times"
   ]
  },
  {
   "cell_type": "code",
   "execution_count": 101,
   "metadata": {
    "collapsed": false
   },
   "outputs": [],
   "source": [
    "RRG = RiggedRepeatedGame(ita,gamma,RGmodel)\n",
    "for j in range(2000):\n",
    "    RRG.play()"
   ]
  },
  {
   "cell_type": "code",
   "execution_count": 86,
   "metadata": {
    "collapsed": false
   },
   "outputs": [
    {
     "data": {
      "image/png": "[encoded data removed]",
      "text/plain": [
       "<matplotlib.figure.Figure at 0x11dcda450>"
      ]
     },
     "metadata": {},
     "output_type": "display_data"
    }
   ],
   "source": [
    "fig,ax = plt.subplots(figsize=(7,7))\n",
    "ax.set_frame_on(True)\n",
    "ax.set_aspect('equal')\n",
    "plt.imshow(RGmodel.M, interpolation='nearest', cmap=plt.cm.viridis)\n",
    "#plt.title(\"Payoff Matrix\")\n",
    "plt.colorbar(orientation=\"horizontal\",fraction=0.04)\n",
    "plt.show()"
   ]
  },
  {
   "cell_type": "code",
   "execution_count": 85,
   "metadata": {
    "collapsed": false
   },
   "outputs": [
    {
     "name": "stdout",
     "output_type": "stream",
     "text": [
      "the average best for row players is 57.6397722283\n"
     ]
    }
   ],
   "source": [
    "print \"the average best for row players is \"+str(RGmodel.equi)"
   ]
  },
  {
   "cell_type": "code",
   "execution_count": 102,
   "metadata": {
    "collapsed": false
   },
   "outputs": [],
   "source": [
    "masked = np.zeros((10,10))\n",
    "for i in range(1000):\n",
    "    masked[RRG.rowChoices[i],RRG.colChoices[i]] += 1\n",
    "    A = np.ma.masked_where(masked == 0,masked)"
   ]
  },
  {
   "cell_type": "code",
   "execution_count": 103,
   "metadata": {
    "collapsed": false
   },
   "outputs": [
    {
     "data": {
      "image/png": "[encoded data removed]",
      "text/plain": [
       "<matplotlib.figure.Figure at 0x11e309b50>"
      ]
     },
     "metadata": {},
     "output_type": "display_data"
    },
    {
     "name": "stdout",
     "output_type": "stream",
     "text": [
      "the gain per round is: 50.5330331595\n"
     ]
    }
   ],
   "source": [
    "fig,ax = plt.subplots()\n",
    "ax.set_aspect('equal')\n",
    "ax.set_frame_on(True)\n",
    "plt.imshow(A, interpolation='nearest', cmap=plt.cm.cool)\n",
    "plt.colorbar(orientation=\"horizontal\",fraction=0.04)\n",
    "plt.title(\"Rigged Game, Choices \")\n",
    "plt.show()\n",
    "print \"the gain per round is: \"+str( RRG.rowGain()/2000)"
   ]
  },
  {
   "cell_type": "markdown",
   "metadata": {},
   "source": [
    "## doing analysis for different games for different rows and columns, and different number of plays for each game"
   ]
  },
  {
   "cell_type": "code",
   "execution_count": 73,
   "metadata": {
    "collapsed": false
   },
   "outputs": [],
   "source": [
    "def RRGmean(RGmodel,T,rounds):\n",
    "    gain = 0\n",
    "    gamma = np.sqrt(RGmodel.m*np.log(RGmodel.m)/(np.exp(1)-1)/T)\n",
    "    if gamma > 1:\n",
    "        gamma =1\n",
    "    ita = gamma/10\n",
    "    for i in range(rounds):\n",
    "        ##print \"playing for the \"+str(i)+\"th round\"\n",
    "        RRG= RiggedRepeatedGame(ita,gamma,RGmodel)\n",
    "        for j in range(T):\n",
    "            RRG.play()\n",
    "        a = RRG.rowGain()*1.0/T\n",
    "        gain = gain+a\n",
    "    return gain*1.0/rounds    \n",
    "    "
   ]
  },
  {
   "cell_type": "code",
   "execution_count": 108,
   "metadata": {
    "collapsed": false
   },
   "outputs": [],
   "source": [
    "\n",
    "def RRGAnalysis(rounds,RGmodel):\n",
    "    print \"the best possible average gain for row players is \" + str(RGmodel.equi)\n",
    "    avePerGain = []\n",
    "    for t in np.arange(1,10001,50):\n",
    "        print \"this is for T = \"+str(t)\n",
    "        a = RRGmean(RGmodel,t,rounds)\n",
    "        print a\n",
    "        avePerGain.append(a)\n",
    "    return avePerGain\n",
    "        "
   ]
  },
  {
   "cell_type": "code",
   "execution_count": 70,
   "metadata": {
    "collapsed": false
   },
   "outputs": [],
   "source": [
    "## for a 10*10 matrix\n",
    "RGmodel = RepeatedGame(0,100,10,10)"
   ]
  },
  {
   "cell_type": "code",
   "execution_count": 17,
   "metadata": {
    "collapsed": true
   },
   "outputs": [],
   "source": [
    "avePerGain = RRGAnalysis(50,RGmodel);"
   ]
  },
  {
   "cell_type": "code",
   "execution_count": 98,
   "metadata": {
    "collapsed": false
   },
   "outputs": [
    {
     "data": {
      "image/png": "[encoded data removed]",
      "text/plain": [
       "<matplotlib.figure.Figure at 0x11e2b3810>"
      ]
     },
     "metadata": {},
     "output_type": "display_data"
    }
   ],
   "source": [
    "fig = plt.subplot(111)\n",
    "fig.plot(np.arange(1,10001,50),avePerGain,color = 'blue',label = 'Exp3.P')\n",
    "plt.xlabel('Rounds n')\n",
    "plt.ylabel('Average Gain Per Round')\n",
    "plt.axhline(y=RGmodel.equi, xmin=0, xmax=1, hold=None,color = 'red',label = 'Value of the game')\n",
    "fig.legend(bbox_to_anchor=(1.05, 1), loc=2, borderaxespad=0.)\n",
    "plt.title(\"Average Gain Per Round\")\n",
    "fig.set_xlim([0,10003])\n",
    "plt.show()"
   ]
  },
  {
   "cell_type": "code",
   "execution_count": null,
   "metadata": {
    "collapsed": true
   },
   "outputs": [],
   "source": []
  }
 ],
 "metadata": {
  "kernelspec": {
   "display_name": "Python 2",
   "language": "python",
   "name": "python2"
  },
  "language_info": {
   "codemirror_mode": {
    "name": "ipython",
    "version": 2
   },
   "file_extension": ".py",
   "mimetype": "text/x-python",
   "name": "python",
   "nbconvert_exporter": "python",
   "pygments_lexer": "ipython2",
   "version": "2.7.11"
  }
 },
 "nbformat": 4,
 "nbformat_minor": 0
}
